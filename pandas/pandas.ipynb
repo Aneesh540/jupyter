{
 "cells": [
  {
   "cell_type": "markdown",
   "metadata": {},
   "source": [
    "# <span style=\"color:red\"> Pandas v0.0 </span> <br>\n",
    "* ### pandas is standard library for data science in pyhton\n",
    "* ### built on top of numpy\n",
    "\n",
    "## <span style=\"color:blue\"> Pandas has two main classes *series* and *data frame*</span>\n",
    "* ### data frames is container of series object where each row is series\n",
    "* ### series are like dict. data type in python"
   ]
  },
  {
   "cell_type": "markdown",
   "metadata": {},
   "source": [
    "## <span style=\"color:green\"> Pandas Series <span>"
   ]
  },
  {
   "cell_type": "code",
   "execution_count": 5,
   "metadata": {},
   "outputs": [
    {
     "name": "stdout",
     "output_type": "stream",
     "text": [
      "protozoa             1\n",
      "porifera             2\n",
      "coelenterata       foo\n",
      "nematoda             3\n",
      "platyhelmanthis    bar\n",
      "dtype: object\n"
     ]
    },
    {
     "data": {
      "text/plain": [
       "ubuntu    100\n",
       "fedora    200\n",
       "debian    300\n",
       "rhel      400\n",
       "gentoo    500\n",
       "dtype: int64"
      ]
     },
     "execution_count": 5,
     "metadata": {},
     "output_type": "execute_result"
    }
   ],
   "source": [
    "import pandas as pd\n",
    "series = pd.Series(data=[100,200,300,400,500],index=['ubuntu','fedora','debian','rhel','gentoo'])\n",
    "\n",
    "series_two = pd.Series([1,2,'foo',3,'bar'],['protozoa','porifera','coelenterata','nematoda','platyhelmanthis'])\n",
    "print(series_two)\n",
    "series"
   ]
  },
  {
   "cell_type": "code",
   "execution_count": 7,
   "metadata": {},
   "outputs": [
    {
     "data": {
      "text/plain": [
       "protozoa                2\n",
       "porifera                4\n",
       "coelenterata       foofoo\n",
       "nematoda                6\n",
       "platyhelmanthis    barbar\n",
       "dtype: object"
      ]
     },
     "execution_count": 7,
     "metadata": {},
     "output_type": "execute_result"
    }
   ],
   "source": [
    "# string also get 2x, similarly other operations can also be performed\n",
    "series_two*2"
   ]
  },
  {
   "cell_type": "code",
   "execution_count": 28,
   "metadata": {},
   "outputs": [
    {
     "name": "stdout",
     "output_type": "stream",
     "text": [
      "200 \n",
      "\n",
      "400 \n",
      "\n",
      "ubuntu    100\n",
      "fedora    200\n",
      "rhel      400\n",
      "dtype: int64\n"
     ]
    }
   ],
   "source": [
    "# both series['swfw'] and series.loc['swfw'] gives same answers\n",
    "print(series['fedora'],\"\\n\")\n",
    "print(series.loc['rhel'],\"\\n\")\n",
    "print(series.loc[['ubuntu','fedora','rhel']])\n",
    "# print(series.loc[[1,2,4]])        KeyError:None of [[1, 2, 4]] are in the [index]"
   ]
  },
  {
   "cell_type": "code",
   "execution_count": 29,
   "metadata": {},
   "outputs": [
    {
     "data": {
      "text/plain": [
       "fedora    200\n",
       "debian    300\n",
       "gentoo    500\n",
       "dtype: int64"
      ]
     },
     "execution_count": 29,
     "metadata": {},
     "output_type": "execute_result"
    }
   ],
   "source": [
    "# to access elements at 1st, 2nd and 4th position\n",
    "series[[1,2,4]]"
   ]
  },
  {
   "cell_type": "code",
   "execution_count": 18,
   "metadata": {},
   "outputs": [
    {
     "data": {
      "text/plain": [
       "Index(['ubuntu', 'fedora', 'debian', 'rhel', 'gentoo'], dtype='object')"
      ]
     },
     "execution_count": 18,
     "metadata": {},
     "output_type": "execute_result"
    }
   ],
   "source": [
    "series.index"
   ]
  },
  {
   "cell_type": "code",
   "execution_count": 22,
   "metadata": {},
   "outputs": [
    {
     "data": {
      "text/plain": [
       "400"
      ]
     },
     "execution_count": 22,
     "metadata": {},
     "output_type": "execute_result"
    }
   ],
   "source": [
    "# index location 3 ki value\n",
    "series.iloc[3]"
   ]
  },
  {
   "cell_type": "code",
   "execution_count": 23,
   "metadata": {},
   "outputs": [
    {
     "data": {
      "text/plain": [
       "True"
      ]
     },
     "execution_count": 23,
     "metadata": {},
     "output_type": "execute_result"
    }
   ],
   "source": [
    "'ubuntu' in series"
   ]
  },
  {
   "cell_type": "markdown",
   "metadata": {},
   "source": [
    "## <span style=\"color:green\"> pandas DataFrame </span>\n",
    "* creating data frames from python dictionaries and pandas Series object \n",
    "* python data frame is container of pandas series with each row as series object\n",
    "\n",
    " > in pandas {key:values} :: key comes upper(rows)[here:: one,two] values, index of pd.Series bcom heading column\n",
    " and rest iz arranged"
   ]
  },
  {
   "cell_type": "code",
   "execution_count": 57,
   "metadata": {},
   "outputs": [
    {
     "data": {
      "text/html": [
       "<div>\n",
       "<style>\n",
       "    .dataframe thead tr:only-child th {\n",
       "        text-align: right;\n",
       "    }\n",
       "\n",
       "    .dataframe thead th {\n",
       "        text-align: left;\n",
       "    }\n",
       "\n",
       "    .dataframe tbody tr th {\n",
       "        vertical-align: top;\n",
       "    }\n",
       "</style>\n",
       "<table border=\"1\" class=\"dataframe\">\n",
       "  <thead>\n",
       "    <tr style=\"text-align: right;\">\n",
       "      <th></th>\n",
       "      <th>one</th>\n",
       "      <th>two</th>\n",
       "    </tr>\n",
       "  </thead>\n",
       "  <tbody>\n",
       "    <tr>\n",
       "      <th>agl</th>\n",
       "      <td>1.0</td>\n",
       "      <td>NaN</td>\n",
       "    </tr>\n",
       "    <tr>\n",
       "      <th>css</th>\n",
       "      <td>2.0</td>\n",
       "      <td>NaN</td>\n",
       "    </tr>\n",
       "    <tr>\n",
       "      <th>europha</th>\n",
       "      <td>NaN</td>\n",
       "      <td>500.0</td>\n",
       "    </tr>\n",
       "    <tr>\n",
       "      <th>jmr</th>\n",
       "      <td>3.0</td>\n",
       "      <td>NaN</td>\n",
       "    </tr>\n",
       "    <tr>\n",
       "      <th>jupyter</th>\n",
       "      <td>NaN</td>\n",
       "      <td>400.0</td>\n",
       "    </tr>\n",
       "    <tr>\n",
       "      <th>mars</th>\n",
       "      <td>NaN</td>\n",
       "      <td>300.0</td>\n",
       "    </tr>\n",
       "    <tr>\n",
       "      <th>mercury</th>\n",
       "      <td>NaN</td>\n",
       "      <td>100.0</td>\n",
       "    </tr>\n",
       "    <tr>\n",
       "      <th>pluto</th>\n",
       "      <td>NaN</td>\n",
       "      <td>200.0</td>\n",
       "    </tr>\n",
       "    <tr>\n",
       "      <th>rkv</th>\n",
       "      <td>4.0</td>\n",
       "      <td>NaN</td>\n",
       "    </tr>\n",
       "    <tr>\n",
       "      <th>skd</th>\n",
       "      <td>5.0</td>\n",
       "      <td>NaN</td>\n",
       "    </tr>\n",
       "  </tbody>\n",
       "</table>\n",
       "</div>"
      ],
      "text/plain": [
       "         one    two\n",
       "agl      1.0    NaN\n",
       "css      2.0    NaN\n",
       "europha  NaN  500.0\n",
       "jmr      3.0    NaN\n",
       "jupyter  NaN  400.0\n",
       "mars     NaN  300.0\n",
       "mercury  NaN  100.0\n",
       "pluto    NaN  200.0\n",
       "rkv      4.0    NaN\n",
       "skd      5.0    NaN"
      ]
     },
     "execution_count": 57,
     "metadata": {},
     "output_type": "execute_result"
    }
   ],
   "source": [
    "import pandas as pd \n",
    "# data frames of completely different data series\n",
    "foo = pd.Series(data=[1,2,3,4,5],index=['agl','css','jmr','rkv','skd'])\n",
    "bar = pd.Series(data=[100,200,300,400,500],index=['mercury','pluto','mars','jupyter','europha'])\n",
    "\n",
    "rust = { 'one':foo,\n",
    "         'two':bar }\n",
    "\n",
    "frame= pd.DataFrame(rust)\n",
    "frame"
   ]
  },
  {
   "cell_type": "code",
   "execution_count": 45,
   "metadata": {},
   "outputs": [
    {
     "name": "stdout",
     "output_type": "stream",
     "text": [
      "         one    two\n",
      "alpha    1.0  100.0\n",
      "epsilon  3.0  300.0\n",
      "fie      4.0    NaN\n",
      "numpy    2.0  200.0\n",
      "seaborn  NaN  400.0\n"
     ]
    },
    {
     "data": {
      "text/html": [
       "<div>\n",
       "<style>\n",
       "    .dataframe thead tr:only-child th {\n",
       "        text-align: right;\n",
       "    }\n",
       "\n",
       "    .dataframe thead th {\n",
       "        text-align: left;\n",
       "    }\n",
       "\n",
       "    .dataframe tbody tr th {\n",
       "        vertical-align: top;\n",
       "    }\n",
       "</style>\n",
       "<table border=\"1\" class=\"dataframe\">\n",
       "  <thead>\n",
       "    <tr style=\"text-align: right;\">\n",
       "      <th></th>\n",
       "      <th>one</th>\n",
       "      <th>two</th>\n",
       "    </tr>\n",
       "  </thead>\n",
       "  <tbody>\n",
       "    <tr>\n",
       "      <th>alpha</th>\n",
       "      <td>1.0</td>\n",
       "      <td>100.0</td>\n",
       "    </tr>\n",
       "    <tr>\n",
       "      <th>epsilon</th>\n",
       "      <td>3.0</td>\n",
       "      <td>300.0</td>\n",
       "    </tr>\n",
       "    <tr>\n",
       "      <th>fie</th>\n",
       "      <td>4.0</td>\n",
       "      <td>NaN</td>\n",
       "    </tr>\n",
       "    <tr>\n",
       "      <th>numpy</th>\n",
       "      <td>2.0</td>\n",
       "      <td>200.0</td>\n",
       "    </tr>\n",
       "    <tr>\n",
       "      <th>seaborn</th>\n",
       "      <td>NaN</td>\n",
       "      <td>400.0</td>\n",
       "    </tr>\n",
       "  </tbody>\n",
       "</table>\n",
       "</div>"
      ],
      "text/plain": [
       "         one    two\n",
       "alpha    1.0  100.0\n",
       "epsilon  3.0  300.0\n",
       "fie      4.0    NaN\n",
       "numpy    2.0  200.0\n",
       "seaborn  NaN  400.0"
      ]
     },
     "execution_count": 45,
     "metadata": {},
     "output_type": "execute_result"
    }
   ],
   "source": [
    "ruby = {'one': pd.Series([1,2,3,4],['alpha','numpy','epsilon','fie']),\n",
    "       'two': pd.Series([100,200,300,400],['alpha','numpy','epsilon','seaborn'])}\n",
    "\n",
    "new_frame = pd.DataFrame(ruby)\n",
    "print(new_frame)\n",
    "new_frame"
   ]
  },
  {
   "cell_type": "code",
   "execution_count": 53,
   "metadata": {},
   "outputs": [
    {
     "name": "stdout",
     "output_type": "stream",
     "text": [
      "Index(['alpha', 'epsilon', 'fie', 'numpy', 'seaborn'], dtype='object')\n",
      "Index(['one', 'two'], dtype='object')\n"
     ]
    }
   ],
   "source": [
    "print(new_frame.index)\n",
    "print(new_frame.columns)"
   ]
  },
  {
   "cell_type": "markdown",
   "metadata": {},
   "source": [
    "### <span style=\"color:green\"> Creating DataFrames from python dictionaries <span>"
   ]
  },
  {
   "cell_type": "code",
   "execution_count": 60,
   "metadata": {},
   "outputs": [
    {
     "name": "stdout",
     "output_type": "stream",
     "text": [
      "   dinesh  erlich jared  jing-yang  richard\n",
      "0     NaN   400.0   200        NaN      100\n",
      "1   500.0     NaN   888      600.0      900\n"
     ]
    },
    {
     "data": {
      "text/html": [
       "<div>\n",
       "<style>\n",
       "    .dataframe thead tr:only-child th {\n",
       "        text-align: right;\n",
       "    }\n",
       "\n",
       "    .dataframe thead th {\n",
       "        text-align: left;\n",
       "    }\n",
       "\n",
       "    .dataframe tbody tr th {\n",
       "        vertical-align: top;\n",
       "    }\n",
       "</style>\n",
       "<table border=\"1\" class=\"dataframe\">\n",
       "  <thead>\n",
       "    <tr style=\"text-align: right;\">\n",
       "      <th></th>\n",
       "      <th>dinesh</th>\n",
       "      <th>erlich</th>\n",
       "      <th>jared</th>\n",
       "      <th>jing-yang</th>\n",
       "      <th>richard</th>\n",
       "    </tr>\n",
       "  </thead>\n",
       "  <tbody>\n",
       "    <tr>\n",
       "      <th>0</th>\n",
       "      <td>NaN</td>\n",
       "      <td>400.0</td>\n",
       "      <td>200</td>\n",
       "      <td>NaN</td>\n",
       "      <td>100</td>\n",
       "    </tr>\n",
       "    <tr>\n",
       "      <th>1</th>\n",
       "      <td>500.0</td>\n",
       "      <td>NaN</td>\n",
       "      <td>888</td>\n",
       "      <td>600.0</td>\n",
       "      <td>900</td>\n",
       "    </tr>\n",
       "  </tbody>\n",
       "</table>\n",
       "</div>"
      ],
      "text/plain": [
       "   dinesh  erlich jared  jing-yang  richard\n",
       "0     NaN   400.0   200        NaN      100\n",
       "1   500.0     NaN   888      600.0      900"
      ]
     },
     "execution_count": 60,
     "metadata": {},
     "output_type": "execute_result"
    }
   ],
   "source": [
    "data_dict = [{'richard':100,'jared':'200','erlich': 400},{'dinesh':500,'jing-yang':600,'richard':900,'jared':888}]\n",
    "panda_dict = pd.DataFrame(data_dict)\n",
    "print(panda_dict)\n",
    "panda_dict\n",
    "# here also key becomes upper starting row 1st column start with 0,1...."
   ]
  },
  {
   "cell_type": "code",
   "execution_count": null,
   "metadata": {
    "collapsed": true
   },
   "outputs": [],
   "source": []
  }
 ],
 "metadata": {
  "kernelspec": {
   "display_name": "Python [conda root]",
   "language": "python",
   "name": "conda-root-py"
  },
  "language_info": {
   "codemirror_mode": {
    "name": "ipython",
    "version": 3
   },
   "file_extension": ".py",
   "mimetype": "text/x-python",
   "name": "python",
   "nbconvert_exporter": "python",
   "pygments_lexer": "ipython3",
   "version": "3.6.1"
  }
 },
 "nbformat": 4,
 "nbformat_minor": 2
}
