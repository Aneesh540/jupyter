{
 "cells": [
  {
   "cell_type": "markdown",
   "metadata": {},
   "source": [
    "## 1-D numpy array\n",
    "* can contain only one type of variables(float,int,str)\n",
    "* numpy arrays are upto 10x fast then normal python list"
   ]
  },
  {
   "cell_type": "code",
   "execution_count": 3,
   "metadata": {},
   "outputs": [
    {
     "name": "stdout",
     "output_type": "stream",
     "text": [
      "<class 'numpy.ndarray'>\n",
      "(4,)\n",
      "[1234    2    3    4]\n"
     ]
    }
   ],
   "source": [
    "import numpy as np\n",
    "a=np.array([1,2,3,4])\n",
    "\n",
    "print(type(a))\n",
    "print(a.shape)                           # shape != row,coloumn\n",
    "\n",
    "a[0]=1234\n",
    "print(a)"
   ]
  },
  {
   "cell_type": "markdown",
   "metadata": {
    "collapsed": true
   },
   "source": [
    "## 2D- numpy array\n",
    "> ### [ [.........] ] == matrix  (rank 2),  [..........] == array (rank 1)\n",
    "\n",
    "* the format is [[row],[row]]\n",
    "* accessing element is same as that of matrix "
   ]
  },
  {
   "cell_type": "code",
   "execution_count": 31,
   "metadata": {},
   "outputs": [
    {
     "name": "stdout",
     "output_type": "stream",
     "text": [
      "[[1 2 3]\n",
      " [4 5 6]]\n",
      "shape of array is (2, 3)\n"
     ]
    }
   ],
   "source": [
    "import numpy as np\n",
    "twod=np.array([[1,2,3],[4,5,6]])\n",
    "print(twod)                 \n",
    "print(\"shape of array is {}\".format(twod.shape))             # this shows (rows,colounm"
   ]
  },
  {
   "cell_type": "code",
   "execution_count": 32,
   "metadata": {},
   "outputs": [
    {
     "name": "stdout",
     "output_type": "stream",
     "text": [
      "[[ 0.  0.  0.]\n",
      " [ 0.  0.  0.]]\n"
     ]
    }
   ],
   "source": [
    "zeros=np.zeros((2,3))\n",
    "print(zeros)"
   ]
  },
  {
   "cell_type": "code",
   "execution_count": 37,
   "metadata": {},
   "outputs": [
    {
     "name": "stdout",
     "output_type": "stream",
     "text": [
      "[[ 2.  2.  2.  2.]\n",
      " [ 2.  2.  2.  2.]\n",
      " [ 2.  2.  2.  2.]]\n"
     ]
    }
   ],
   "source": [
    "full=np.full((3,4),2.0)\n",
    "print(full)\n"
   ]
  },
  {
   "cell_type": "code",
   "execution_count": 38,
   "metadata": {},
   "outputs": [
    {
     "name": "stdout",
     "output_type": "stream",
     "text": [
      "[[ 1.  1.]\n",
      " [ 1.  1.]\n",
      " [ 1.  1.]]\n"
     ]
    }
   ],
   "source": [
    "ones=np.ones((3,2))\n",
    "print(ones)"
   ]
  },
  {
   "cell_type": "code",
   "execution_count": 39,
   "metadata": {},
   "outputs": [
    {
     "name": "stdout",
     "output_type": "stream",
     "text": [
      "[[ 1.  0.  0.  0.  0.]\n",
      " [ 0.  1.  0.  0.  0.]\n",
      " [ 0.  0.  1.  0.  0.]]\n"
     ]
    },
    {
     "data": {
      "text/plain": [
       "(3, 5)"
      ]
     },
     "execution_count": 39,
     "metadata": {},
     "output_type": "execute_result"
    }
   ],
   "source": [
    "# creates a matrix with diagonal element 1 rest zero\n",
    "eye=np.eye(3,5)\n",
    "print(eye)\n",
    "eye.shape"
   ]
  },
  {
   "cell_type": "code",
   "execution_count": 65,
   "metadata": {},
   "outputs": [
    {
     "name": "stdout",
     "output_type": "stream",
     "text": [
      "[[ 0.08948355  0.6627442   0.53567285]\n",
      " [ 0.87157925  0.8905996   0.64976038]\n",
      " [ 0.12685296  0.30510042  0.18912331]]\n"
     ]
    }
   ],
   "source": [
    "import numpy.random as rp\n",
    "# creates an array of random floats between 0 and 1\n",
    "rand=rp.random((3,3))\n",
    "print(rand)"
   ]
  },
  {
   "cell_type": "code",
   "execution_count": 66,
   "metadata": {},
   "outputs": [
    {
     "name": "stdout",
     "output_type": "stream",
     "text": [
      "[[-2.81239755 -3.52608893  4.98336326]\n",
      " [-2.78913869 -8.61891329 -9.43463412]\n",
      " [-1.07027013 -0.98064643 -7.59688693]\n",
      " [-9.36352074 -0.18328779 -0.02265523]\n",
      " [-2.1128412   6.95327662 -9.91910111]]\n"
     ]
    }
   ],
   "source": [
    "# generate matrix of floats\n",
    "w=rp.uniform(low=-10.0,high=7.0,size=(5,3))\n",
    "print(w)"
   ]
  },
  {
   "cell_type": "code",
   "execution_count": 71,
   "metadata": {},
   "outputs": [
    {
     "name": "stdout",
     "output_type": "stream",
     "text": [
      "[[-2  3 -1]\n",
      " [ 2  1  2]]\n"
     ]
    }
   ],
   "source": [
    "# generate matrix of integer \n",
    "inte=rp.randint(low=-2,high=4,size=(2,3))\n",
    "print(inte)"
   ]
  },
  {
   "cell_type": "markdown",
   "metadata": {},
   "source": [
    "## Slice Indexing\n",
    "* it *just* gives refrence of sliced part to new variable it did't produce new array\n",
    "\n",
    "* to create a copy of sliced part use ``` new_slice= np.array(original[:2,1,3])```\n"
   ]
  },
  {
   "cell_type": "code",
   "execution_count": 107,
   "metadata": {},
   "outputs": [
    {
     "name": "stdout",
     "output_type": "stream",
     "text": [
      "<class 'numpy.ndarray'>\n"
     ]
    },
    {
     "data": {
      "text/plain": [
       "array([[13, 18, 15,  9, 15],\n",
       "       [18,  4,  7, 18, 18],\n",
       "       [ 8,  4, 17,  7,  9],\n",
       "       [ 6, 15,  4,  9,  7]])"
      ]
     },
     "execution_count": 107,
     "metadata": {},
     "output_type": "execute_result"
    }
   ],
   "source": [
    "import numpy as np\n",
    "root=np.random.randint(low=1,high=20,size=(4,5))\n",
    "print(type(root))\n",
    "root"
   ]
  },
  {
   "cell_type": "code",
   "execution_count": 108,
   "metadata": {},
   "outputs": [
    {
     "name": "stdout",
     "output_type": "stream",
     "text": [
      "refrence_slice:\n",
      " [[ 7 18 18]\n",
      " [17  7  9]] \n",
      "\n",
      "refrence_slice after modifying:\n",
      " [[   7 -999   18]\n",
      " [  17    7    9]] \n",
      "\n",
      "root array:\n",
      " [[  13   18   15    9   15]\n",
      " [  18    4    7 -999   18]\n",
      " [   8    4   17    7    9]\n",
      " [   6   15    4    9    7]]\n"
     ]
    }
   ],
   "source": [
    "refrence_slice=root[1:3,2:]\n",
    "print(\"refrence_slice:\\n\",refrence_slice,\"\\n\")\n",
    "\n",
    "refrence_slice[0,1]=-999\n",
    "\n",
    "print(\"refrence_slice after modifying:\\n\",refrence_slice,\"\\n\")\n",
    "print(\"root array:\\n\",root)\n",
    "# Thus changing a value in refrence_slice changes original variable in root"
   ]
  },
  {
   "cell_type": "code",
   "execution_count": null,
   "metadata": {
    "collapsed": true
   },
   "outputs": [],
   "source": []
  }
 ],
 "metadata": {
  "kernelspec": {
   "display_name": "Python [conda root]",
   "language": "python",
   "name": "conda-root-py"
  },
  "language_info": {
   "codemirror_mode": {
    "name": "ipython",
    "version": 3
   },
   "file_extension": ".py",
   "mimetype": "text/x-python",
   "name": "python",
   "nbconvert_exporter": "python",
   "pygments_lexer": "ipython3",
   "version": "3.6.1"
  }
 },
 "nbformat": 4,
 "nbformat_minor": 2
}
