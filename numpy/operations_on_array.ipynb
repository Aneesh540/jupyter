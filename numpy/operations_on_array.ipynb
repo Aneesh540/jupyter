{
 "cells": [
  {
   "cell_type": "markdown",
   "metadata": {},
   "source": [
    "# <span style=\"color:green\"> Boolean Indexing <span>"
   ]
  },
  {
   "cell_type": "code",
   "execution_count": 8,
   "metadata": {},
   "outputs": [
    {
     "name": "stdout",
     "output_type": "stream",
     "text": [
      "[[14 18 10 15 29]\n",
      " [29 15 11 10 23]\n",
      " [19 29 23 19 12]\n",
      " [23 25 23 20 23]]\n"
     ]
    }
   ],
   "source": [
    "import numpy as np\n",
    "arr=np.random.randint(10,30,(4,5))          # random array (low,high,size)\n",
    "print(arr)"
   ]
  },
  {
   "cell_type": "code",
   "execution_count": 9,
   "metadata": {},
   "outputs": [
    {
     "data": {
      "text/plain": [
       "array([[False, False, False, False,  True],\n",
       "       [ True, False, False, False,  True],\n",
       "       [False,  True,  True, False, False],\n",
       "       [ True,  True,  True, False,  True]], dtype=bool)"
      ]
     },
     "execution_count": 9,
     "metadata": {},
     "output_type": "execute_result"
    }
   ],
   "source": [
    "filter = (arr>20)\n",
    "filter"
   ]
  },
  {
   "cell_type": "code",
   "execution_count": 11,
   "metadata": {},
   "outputs": [
    {
     "data": {
      "text/plain": [
       "array([29, 29, 23, 29, 23, 23, 25, 23, 23])"
      ]
     },
     "execution_count": 11,
     "metadata": {},
     "output_type": "execute_result"
    }
   ],
   "source": [
    "# gives an numpy array of all element greater then 20\n",
    "arr[filter]"
   ]
  },
  {
   "cell_type": "code",
   "execution_count": 12,
   "metadata": {},
   "outputs": [
    {
     "data": {
      "text/plain": [
       "array([29, 29, 23, 29, 23, 23, 25, 23, 23])"
      ]
     },
     "execution_count": 12,
     "metadata": {},
     "output_type": "execute_result"
    }
   ],
   "source": [
    "# direct method / shortcut\n",
    "arr[arr>20]"
   ]
  },
  {
   "cell_type": "code",
   "execution_count": 14,
   "metadata": {},
   "outputs": [
    {
     "data": {
      "text/plain": [
       "array([18, 23, 19, 23, 19, 23, 23, 20, 23])"
      ]
     },
     "execution_count": 14,
     "metadata": {},
     "output_type": "execute_result"
    }
   ],
   "source": [
    "# element between 15 and 25\n",
    "arr[(arr>15) & (arr<25)]"
   ]
  },
  {
   "cell_type": "code",
   "execution_count": 17,
   "metadata": {},
   "outputs": [
    {
     "name": "stdout",
     "output_type": "stream",
     "text": [
      "[114 118 110 110 112 120]\n"
     ]
    },
    {
     "data": {
      "text/plain": [
       "array([[214, 218, 210,  15,  29],\n",
       "       [ 29,  15,  11, 210,  23],\n",
       "       [ 19,  29,  23,  19, 212],\n",
       "       [ 23,  25,  23, 220,  23]])"
      ]
     },
     "execution_count": 17,
     "metadata": {},
     "output_type": "execute_result"
    }
   ],
   "source": [
    "# finding even numbers and adding 100 to them\n",
    "print(arr[arr%2==0])\n",
    "arr[arr%2==0] += 100\n",
    "arr"
   ]
  },
  {
   "cell_type": "markdown",
   "metadata": {},
   "source": [
    "# <span style=\"color:green\"> Changing dtype </span>"
   ]
  },
  {
   "cell_type": "code",
   "execution_count": 25,
   "metadata": {},
   "outputs": [
    {
     "data": {
      "text/plain": [
       "array([[1, 2, 3],\n",
       "       [4, 5, 6]])"
      ]
     },
     "execution_count": 25,
     "metadata": {},
     "output_type": "execute_result"
    }
   ],
   "source": [
    "import numpy as np\n",
    "# np.int64 and np.float64\n",
    "np.array(([1.7,2,3.6],[4.2,5,6]), dtype=np.int64)"
   ]
  },
  {
   "cell_type": "markdown",
   "metadata": {},
   "source": [
    "# <span style=\"color:green\"> Arithmetic Operations</span>"
   ]
  },
  {
   "cell_type": "code",
   "execution_count": 38,
   "metadata": {},
   "outputs": [
    {
     "name": "stdout",
     "output_type": "stream",
     "text": [
      "[[ 1.  1.  1.]\n",
      " [ 1.  1.  1.]\n",
      " [ 1.  1.  1.]]\n",
      "[[ 1.          1.          1.        ]\n",
      " [ 0.5         0.5         0.5       ]\n",
      " [ 0.33333333  0.33333333  0.33333333]]\n"
     ]
    }
   ],
   "source": [
    "x=np.array([[1,1,1],[2,2,2],[3,3,3]])\n",
    "y=np.zeros((3,3))\n",
    "y += 1              # y=np.ones((3,3))\n",
    "print(y)\n",
    "\n",
    "print(y/x)"
   ]
  },
  {
   "cell_type": "code",
   "execution_count": 34,
   "metadata": {},
   "outputs": [
    {
     "name": "stdout",
     "output_type": "stream",
     "text": [
      "[[  1.41421356   1.73205081   2.        ]\n",
      " [  5.          12.          13.        ]\n",
      " [ 21.          22.          23.        ]]\n"
     ]
    },
    {
     "data": {
      "text/plain": [
       "array([[  4.11325038e+00,   5.65223367e+00,   7.38905610e+00],\n",
       "       [  1.48413159e+02,   1.62754791e+05,   4.42413392e+05],\n",
       "       [  1.31881573e+09,   3.58491285e+09,   9.74480345e+09]])"
      ]
     },
     "execution_count": 34,
     "metadata": {},
     "output_type": "execute_result"
    }
   ],
   "source": [
    "# square root and exponent\n",
    "sql=np.array([[2,3,4],[25,144,169],[441,484,529]])\n",
    "sq_root=np.sqrt(sql)\n",
    "print(sq_root)\n",
    "expo=np.exp(sq_root)\n",
    "expo"
   ]
  },
  {
   "cell_type": "markdown",
   "metadata": {},
   "source": [
    "# <span style=\"color:green\"> Statistical Operations</span>"
   ]
  },
  {
   "cell_type": "code",
   "execution_count": 59,
   "metadata": {},
   "outputs": [
    {
     "data": {
      "text/plain": [
       "array([[ 7,  8,  5],\n",
       "       [ 9,  9, 10],\n",
       "       [10,  5,  9]])"
      ]
     },
     "execution_count": 59,
     "metadata": {},
     "output_type": "execute_result"
    }
   ],
   "source": [
    "import numpy as np\n",
    "stats=np.random.randint(5,11,(3,3))\n",
    "stats"
   ]
  },
  {
   "cell_type": "code",
   "execution_count": 63,
   "metadata": {},
   "outputs": [
    {
     "name": "stdout",
     "output_type": "stream",
     "text": [
      "[ 6.66666667  9.33333333  8.        ]\n",
      "[ 8.66666667  7.33333333  8.        ]\n",
      "[20 28 24]\n",
      "9.0\n"
     ]
    }
   ],
   "source": [
    "# mean of rows (axis=1)\n",
    "print(np.mean(stats,axis=1))\n",
    "\n",
    "# mean of colunm (axis=0)\n",
    "print(stats.mean(axis=0))\n",
    "\n",
    "# sum of array of eachrow\n",
    "print(stats.sum(axis=1))\n",
    "\n",
    "# median\n",
    "print(np.median(stats))"
   ]
  },
  {
   "cell_type": "code",
   "execution_count": 67,
   "metadata": {},
   "outputs": [
    {
     "name": "stdout",
     "output_type": "stream",
     "text": [
      "[[-2  2 11 -6]\n",
      " [ 4  8 -8 12]\n",
      " [13 -7  0  3]]\n",
      "[[-6 -2  2 11]\n",
      " [-8  4  8 12]\n",
      " [-7  0  3 13]]\n"
     ]
    }
   ],
   "source": [
    "# sorting changes the underlying array\n",
    "unsort=np.random.randint(-10,15,(3,4))\n",
    "print(unsort)\n",
    "\n",
    "unsort.sort()\n",
    "print(unsort)"
   ]
  },
  {
   "cell_type": "markdown",
   "metadata": {},
   "source": [
    "# <span style=\"color:green\">Transpose</span>"
   ]
  },
  {
   "cell_type": "code",
   "execution_count": 71,
   "metadata": {},
   "outputs": [
    {
     "name": "stdout",
     "output_type": "stream",
     "text": [
      "[[ 0.54568078  0.24976057  0.53972015  0.81729103  0.77510837]\n",
      " [ 0.87451006  0.60445959  0.53687692  0.24677229  0.55187807]\n",
      " [ 0.46656142  0.65893773  0.09944682  0.00996796  0.95237512]]\n"
     ]
    },
    {
     "data": {
      "text/plain": [
       "array([[ 0.54568078,  0.87451006,  0.46656142],\n",
       "       [ 0.24976057,  0.60445959,  0.65893773],\n",
       "       [ 0.53972015,  0.53687692,  0.09944682],\n",
       "       [ 0.81729103,  0.24677229,  0.00996796],\n",
       "       [ 0.77510837,  0.55187807,  0.95237512]])"
      ]
     },
     "execution_count": 71,
     "metadata": {},
     "output_type": "execute_result"
    }
   ],
   "source": [
    "import numpy as np\n",
    "u=np.random.random((3,5))\n",
    "print(u)\n",
    "u.T"
   ]
  },
  {
   "cell_type": "markdown",
   "metadata": {},
   "source": [
    "# <span style=\"color:green\">Broadcasting</span>\n",
    "* <span style=\"color:red\"> operation of diff size array</span>"
   ]
  },
  {
   "cell_type": "code",
   "execution_count": 8,
   "metadata": {},
   "outputs": [
    {
     "data": {
      "text/plain": [
       "array([[ 1.,  2.,  3.,  4.],\n",
       "       [ 1.,  2.,  3.,  4.],\n",
       "       [ 1.,  2.,  3.,  4.]])"
      ]
     },
     "execution_count": 8,
     "metadata": {},
     "output_type": "execute_result"
    }
   ],
   "source": [
    "import numpy as np\n",
    "brod=np.zeros((3,4))\n",
    "y=brod+np.array([1,2,3,4])\n",
    "y"
   ]
  },
  {
   "cell_type": "code",
   "execution_count": 11,
   "metadata": {},
   "outputs": [
    {
     "data": {
      "text/plain": [
       "array([[ 1001.,  1002.,  1003.,  1004.],\n",
       "       [ 1001.,  1002.,  1003.,  1004.],\n",
       "       [ 1001.,  1002.,  1003.,  1004.]])"
      ]
     },
     "execution_count": 11,
     "metadata": {},
     "output_type": "execute_result"
    }
   ],
   "source": [
    "y=y+1000\n",
    "y"
   ]
  },
  {
   "cell_type": "code",
   "execution_count": 17,
   "metadata": {},
   "outputs": [
    {
     "name": "stdout",
     "output_type": "stream",
     "text": [
      "[[5]\n",
      " [6]\n",
      " [7]]\n"
     ]
    },
    {
     "data": {
      "text/plain": [
       "array([[5, 6, 7]])"
      ]
     },
     "execution_count": 17,
     "metadata": {},
     "output_type": "execute_result"
    }
   ],
   "source": [
    "# ze=np.array([1,2,3])\n",
    "# ze=ze.T          WILL NOT WORK MUST BE OF RANK 2\n",
    "ze=np.array([[5,6,7]])\n",
    "ze=ze.T\n",
    "print(ze)"
   ]
  },
  {
   "cell_type": "code",
   "execution_count": 18,
   "metadata": {},
   "outputs": [
    {
     "data": {
      "text/plain": [
       "array([[ 5.,  5.,  5.,  5.],\n",
       "       [ 6.,  6.,  6.,  6.],\n",
       "       [ 7.,  7.,  7.,  7.]])"
      ]
     },
     "execution_count": 18,
     "metadata": {},
     "output_type": "execute_result"
    }
   ],
   "source": [
    "brod=brod+ze\n",
    "brod"
   ]
  },
  {
   "cell_type": "code",
   "execution_count": null,
   "metadata": {
    "collapsed": true
   },
   "outputs": [],
   "source": []
  }
 ],
 "metadata": {
  "kernelspec": {
   "display_name": "Python [conda root]",
   "language": "python",
   "name": "conda-root-py"
  },
  "language_info": {
   "codemirror_mode": {
    "name": "ipython",
    "version": 3
   },
   "file_extension": ".py",
   "mimetype": "text/x-python",
   "name": "python",
   "nbconvert_exporter": "python",
   "pygments_lexer": "ipython3",
   "version": "3.6.1"
  }
 },
 "nbformat": 4,
 "nbformat_minor": 2
}
